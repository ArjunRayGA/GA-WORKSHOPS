{
 "cells": [
  {
   "cell_type": "code",
   "execution_count": null,
   "metadata": {
    "collapsed": true
   },
   "outputs": [],
   "source": [
    "import pandas as pd\n",
    "import numpy as np\n",
    "import matplotlib.pyplot as plt\n",
    "import random\n",
    "%matplotlib inline "
   ]
  },
  {
   "cell_type": "markdown",
   "metadata": {},
   "source": [
    "**[matplotlib.pyplot.plot](https://matplotlib.org/devdocs/api/_as_gen/matplotlib.pyplot.plot.html)**\n",
    "```python\n",
    "matplotlib.pyplot.plot(*args, **kwargs)\n",
    "```\n",
    "> Plot lines and/or markers to the Axes. args is a variable length argument, allowing for multiple x, y pairs with an optional format string.\n",
    "\n",
    "calling `plt.show` after a renders all graph objects previously made in the block to a single graph. You can also call `plt.show` between graphs objects to render them to separate graphs"
   ]
  },
  {
   "cell_type": "markdown",
   "metadata": {},
   "source": [
    "# SIMPLE CHARTS"
   ]
  },
  {
   "cell_type": "code",
   "execution_count": null,
   "metadata": {},
   "outputs": [],
   "source": [
    "# plotting a line\n",
    "x = np.arange(0,10)\n",
    "y = np.arange(0,10)\n",
    "plt.plot(x,y)"
   ]
  },
  {
   "cell_type": "code",
   "execution_count": null,
   "metadata": {},
   "outputs": [],
   "source": [
    "# generate linear, exponential and flat lines\n",
    "x = np.arange(-10,10)\n",
    "a = np.arange(0,20)\n",
    "b = [b**2 for b in range(0,20)]\n",
    "c = [100 for c in range(0,20)]\n",
    "\n",
    "# metadata for the plot\n",
    "plt.title(\"Title\")\n",
    "plt.plot(x,a, label='linear')\n",
    "plt.plot(x,b, label='exponential')\n",
    "plt.plot(x,c, label='flat')\n",
    "plt.legend(loc='upper left', frameon=True)\n",
    "plt.ylabel('Y')\n",
    "plt.xlabel('X')"
   ]
  },
  {
   "cell_type": "code",
   "execution_count": null,
   "metadata": {},
   "outputs": [],
   "source": [
    "# make a random scatter plot\n",
    "n = 1000\n",
    "ax = np.random.randn(n)\n",
    "ay = np.random.randn(n)\n",
    "plt.scatter(ax, ay)"
   ]
  },
  {
   "cell_type": "markdown",
   "metadata": {},
   "source": [
    "**[matplotlib.pyplot.hist](https://matplotlib.org/devdocs/api/_as_gen/matplotlib.pyplot.hist.html)**\n",
    "```python\n",
    "n, bins, patches = matplotlib.pyplot.hist(x, bins, **kwargs)\n",
    "```\n",
    "> Plot a histogram."
   ]
  },
  {
   "cell_type": "markdown",
   "metadata": {},
   "source": [
    "# NORMAL (GAUSSIAN) DISTIBUTION"
   ]
  },
  {
   "cell_type": "markdown",
   "metadata": {},
   "source": [
    "**[numpy.random.normal](https://docs.scipy.org/doc/numpy-1.13.0/reference/generated/numpy.random.normal.html)**\n",
    "```python\n",
    "numpy.random.normal(loc, scale, size)\n",
    "```\n",
    "> Draw random samples from a normal (Gaussian) distribution."
   ]
  },
  {
   "cell_type": "markdown",
   "metadata": {},
   "source": [
    "**[probability density function for normal distribution](https://en.wikipedia.org/wiki/Normal_distribution)**\n",
    "$$f(x|\\mu,\\sigma^2) = \\frac{1}{\\sqrt{2\\pi\\sigma^2}} e^{-\\frac{(x-2)^2}{2\\sigma^2}}$$\n"
   ]
  },
  {
   "cell_type": "markdown",
   "metadata": {},
   "source": [
    "#### SAMPLE FROM NORMAL DISTRIBUTION \n",
    "   we want to take a certain number of random draws from a \n",
    "   normal distribution with a given mean and standard deviation"
   ]
  },
  {
   "cell_type": "code",
   "execution_count": null,
   "metadata": {
    "collapsed": true
   },
   "outputs": [],
   "source": [
    "mu, sigma = 0, 0.1 # mean and standard deviation\n",
    "draws = 1000\n",
    "s = np.random.normal(mu, sigma, draws)"
   ]
  },
  {
   "cell_type": "markdown",
   "metadata": {},
   "source": [
    "#### PLOT NORMAL DISTRIBUTION WITH NORMAL PDF\n",
    "   we will plot a histogram of the samples `s` as well as a pdf using the \n",
    "   formula above for a normal distribution with the same parameters"
   ]
  },
  {
   "cell_type": "code",
   "execution_count": null,
   "metadata": {},
   "outputs": [],
   "source": [
    "count, bins, ignored = plt.hist(s, 30, normed=True) # plt.hist returns three positional arguments\n",
    "plt.plot(bins, 1/(sigma * np.sqrt(2 * np.pi)) *\n",
    "         np.exp( - (bins - mu)**2 / (2 * sigma**2) ),\n",
    "         linewidth=2, color='r')\n",
    "plt.show()"
   ]
  },
  {
   "cell_type": "markdown",
   "metadata": {},
   "source": [
    "# UNIFORM DISTIBUTION"
   ]
  },
  {
   "cell_type": "markdown",
   "metadata": {},
   "source": [
    "**[numpy.random.uniform](https://docs.scipy.org/doc/numpy-1.13.0/reference/generated/numpy.random.uniform.html)**\n",
    "```python\n",
    "numpy.random.uniform(low, high, size)\n",
    "```\n",
    "> Draw samples from a uniform distribution."
   ]
  },
  {
   "cell_type": "markdown",
   "metadata": {},
   "source": [
    "#### SAMPLE FROM UNIFORM DISTRIBUTION \n",
    "   we want to take a certain number of random draws from a \n",
    "   uniform distribution with a given lower and upper bound"
   ]
  },
  {
   "cell_type": "code",
   "execution_count": null,
   "metadata": {
    "collapsed": true
   },
   "outputs": [],
   "source": [
    "bins = 30\n",
    "draws = 10000\n",
    "s = np.random.uniform(0, 1, draws)"
   ]
  },
  {
   "cell_type": "markdown",
   "metadata": {},
   "source": [
    "#### PLOT UNIFORM DISTRIBUTION WITH PDF\n",
    "   we will plot a histogram of the samples s as well as a pdf for a uniform\n",
    "   ie the distribution where the number of draw is spread equally across all\n",
    "   bins, `draws/bins`"
   ]
  },
  {
   "cell_type": "code",
   "execution_count": null,
   "metadata": {},
   "outputs": [],
   "source": [
    "plt.hist(s, bins)\n",
    "plt.plot((0, 1), (draws/bins, draws/bins), color='red') \n",
    "plt.show()"
   ]
  },
  {
   "cell_type": "markdown",
   "metadata": {},
   "source": [
    "# BINOMIAL DISTIBUTION"
   ]
  },
  {
   "cell_type": "markdown",
   "metadata": {},
   "source": [
    "   A **bi**nomial distribution only has two outcomes, such as Heads or Tails\n",
    "   on a coinflip, and the probability of either outcome is set by a single probability parameter.\n",
    "   We want to see what the probability of getting 0 to n Heads would be for n random draws (also called Bernoulli    trials) from a binomial probability mass distribution. Probability Mass Functions (pmf) are the discrete\n",
    "   equivalent of the continous Probability Density Functions (pdf).\n"
   ]
  },
  {
   "cell_type": "markdown",
   "metadata": {},
   "source": [
    "**[scipy.stats.binom](https://docs.scipy.org/doc/scipy-0.19.1/reference/generated/scipy.stats.binom.html)**\n",
    "```python\n",
    "scipy.stats.binom = <scipy.stats._discrete_distns.binom_gen object>\n",
    "```\n",
    "> A binomial discrete random variable.\n",
    "As an instance of the rv_discrete class, binom object inherits from it a collection of generic methods (see below for the full list), and completes them with details specific for this particular distribution.\n",
    "\n",
    "```python\n",
    "mean, var, skew, kurtosis = scipy.stats.binom.stats(n, p, moment='mvsk')\n",
    "```\n",
    "\n",
    "> Mean(‘m’), variance(‘v’), skew(‘s’), and/or kurtosis(‘k’).\n",
    "\n",
    "```python\n",
    "scipy.stats.binom.ppf(q, n, p)\n",
    "```\n",
    "\n",
    "> Percent point function (inverse of `cdf` — percentiles).\n",
    "\n",
    "```python\n",
    "scipy.stats.binom.pmf(k, n, p)\n",
    "```\n",
    "> Probability mass function."
   ]
  },
  {
   "cell_type": "markdown",
   "metadata": {},
   "source": [
    "#### RENDERING MUTIPLE GRAPHS PER FIGURE"
   ]
  },
  {
   "cell_type": "markdown",
   "metadata": {},
   "source": [
    "**[matplotlib.pyplot.subplots](https://matplotlib.org/devdocs/api/_as_gen/matplotlib.pyplot.subplots.html)**\n",
    "```python\n",
    "figure, axes = matplotlib.pyplot.subplots(nrows, ncols, **kwargs)\n",
    "```\n",
    "> Create a figure and a set of subplots. This utility wrapper makes it convenient to create common layouts of subplots, including the enclosing figure object, in a single call.  \n",
    "> [here's pretty good overview of how `figure`, `axes`, and other subplot grid functions work in `matplotlib`](http://nbviewer.jupyter.org/github/WeatherGod/AnatomyOfMatplotlib/blob/master/AnatomyOfMatplotlib-Part1-Figures_Subplots_and_layouts.ipynb)"
   ]
  },
  {
   "cell_type": "markdown",
   "metadata": {},
   "source": [
    "A note about **[`matplotlib.pyplot.axes`](https://matplotlib.org/devdocs/api/_as_gen/matplotlib.pyplot.axes.html)**\n",
    "> *Speaking of terminology, I must pause here and complain about one aspect of Matplotlib itself: the Axes class is horribly named. First, it’s a plural word used for singular instances, so the documentation is littered with references to “an Axes,” which is jarring to any native speaker of English. Even worse, the name of the Axes class is thoroughly misleading. If you know what the word axes means, you would think that the Axes class would be restricted to things like plot limits, log vs. linear scaling, tick mark spacing, tick labeling, and so on. But you’d be wrong. All of the methods for plotting data are Axes methods, which makes no sense. Why the Axes class wasn’t called Plot or Frame or Graph is beyond me, but that name has been my biggest source of confusion when reading the documentation. Even after I knew that Axes covered more than just the axes, my natural tendency to assign the usual meaning to the word would lead me astray.*  \n",
    "[Source](http://leancrew.com/all-this/2013/07/the-matplotlib-documentation-problem/)\n",
    "\n"
   ]
  },
  {
   "cell_type": "markdown",
   "metadata": {},
   "source": [
    "#### GENERATE 2 PMF BINOMIAL GRAPHS IN A FIGURE"
   ]
  },
  {
   "cell_type": "code",
   "execution_count": null,
   "metadata": {},
   "outputs": [],
   "source": [
    "from scipy.stats import binom\n",
    "\n",
    "# createa a subplot matrix and grab the positional arguments figure (fig) and axes (ax).\n",
    "# axes in this case is a numpy array with each index being a row in the plot\n",
    "fig, ax = plt.subplots(2, 1) \n",
    "\n",
    "\n",
    "# SET PARAMS FOR BINOMIAL PMF\n",
    "\n",
    "n, p = 5, 0.4 # set the number of draw and the p value for the binomial pmf\n",
    "mean, var, skew, kurt = binom.stats(n, p, moments='mvsk')\n",
    "\n",
    "# MAKE AXES FOR BOUNDED PLOT\n",
    "\n",
    "x = np.arange(binom.ppf(0.01, n, p), # get a range of integer x values where the \n",
    "              binom.ppf(0.99, n, p)) # p(Heads) is from 0.01 to 0.99\n",
    "b_pmf = binom.pmf(x, n, p) #get Y values for a binomial pmf using the values in x\n",
    "\n",
    "# plot to the first axes in the figure the pmf, set the title, and set a vertical \n",
    "# line up to the pmf scatter plot value (for style!)\n",
    "ax[0].plot(x, b_pmf, 'bo', ms=8, label='binom pmf')\n",
    "ax[0].set_title('Bounded Binomial PMF (1st to 99th Percentile)')\n",
    "ax[0].vlines(x, 0, binom.pmf(x, n, p), colors='b', lw=5, alpha=0.5)\n",
    "\n",
    "# MAKE AXES FOR ALL OUTCOMES PLOT\n",
    "\n",
    "x2 = np.arange(0, n+1, 1)\n",
    "b_pmf2 = binom.pmf(x2, n, p)\n",
    "             \n",
    "ax[1].plot(x2, b_pmf2, 'ro', ms=8, label='binom pmf')\n",
    "ax[1].set_title('Binomial PMF')\n",
    "ax[1].vlines(x, 0, binom.pmf(x, n, p), colors='r', lw=5, alpha=0.5)\n",
    "\n",
    "# PLOT FIGURE\n",
    "\n",
    "plt.tight_layout() # ensures that subplot axes are not overlapping. this is an experimental method"
   ]
  },
  {
   "cell_type": "markdown",
   "metadata": {},
   "source": [
    "# POISSON DISTIBUTION"
   ]
  },
  {
   "cell_type": "markdown",
   "metadata": {},
   "source": [
    "A Poisson distribution is a discrete distribution used to describe the probability of an event occuring within\n",
    "a fixed interval, often time of space. The number of events expected to occur iwthin the interval is described using the lambda parameter, and the events are considered independent of one another, ie the event occuring at some time point is independent of all other time point (ie the probability of an even occuring at all time points remains the same).\n",
    "> *For instance, an individual keeping track of the amount of mail they receive each day may notice that they receive an average number of 4 letters per day. If receiving any particular piece of mail does not affect the arrival times of future pieces of mail, i.e., if pieces of mail from a wide range of sources arrive independently of one another, then a reasonable assumption is that the number of pieces of mail received in a day obeys a Poisson distribution. Other examples that may follow a Poisson include the number of phone calls received by a call center per hour and the number of decay events per second from a radioactive source.*  \n",
    "[Source](https://en.wikipedia.org/wiki/Poisson_distribution)\n",
    "\n",
    "For sufficiently large values of lambda, (say >1000), the normal distribution with mean=lambda and variance=lambda ( standard deviation=sqrt(lambda) ) is an excellent approximation to the Poisson distribution."
   ]
  },
  {
   "cell_type": "markdown",
   "metadata": {},
   "source": [
    "**[numpy.random.poisson](https://docs.scipy.org/doc/numpy-1.13.0/reference/generated/numpy.random.poisson.html)**\n",
    "```python\n",
    "numpy.random.poisson(lam, size)\n",
    "```\n",
    "> Draw samples from a Poisson distribution.\n",
    "\n"
   ]
  },
  {
   "cell_type": "markdown",
   "metadata": {},
   "source": [
    "#### SAMPLE FROM POISSON DISTRIBUTIONS WITH DIFFERENT LAMBDA VALUES AND PLOT VS NORMAL APPORXIMATION"
   ]
  },
  {
   "cell_type": "code",
   "execution_count": null,
   "metadata": {},
   "outputs": [],
   "source": [
    "import math\n",
    "\n",
    "#figsize is one of the keyword arguments subplots takes for(width, height) in inches\n",
    "fig, ax = plt.subplots(6,1, figsize=(8, 12)) \n",
    "\n",
    "lambdas = [1,5,10,100,1000,10000] # these are the lambda values we will loop through\n",
    "for index, lambduh in enumerate(lambdas): # 'lambda' is a protected keyword in python used to write short effecient functions\n",
    "    # GENERATE RANDOM POISSON SAMPLES\n",
    "    s = np.random.poisson(lambduh, 10000)\n",
    "     \n",
    "    # PLOT HISTOGRAM FOR THIS LAMBDA VALUE\n",
    "    \n",
    "    # num_bins give an integer value of 10 for lambduh less than 1000, otherwise lambduh/100 + 10\n",
    "    num_bins = int(math.ceil(lambduh/100)+10)                   \n",
    "    count, bins, ignored = ax[index].hist(s, num_bins, normed=True)\n",
    "    \n",
    "    # PLOT NORMAL DISTIBUTION WITH MEAN AND VARIANCE SET TO LAMBDA\n",
    "    sigma = lambduh ** .5\n",
    "    mu = lambduh\n",
    "    ax[index].plot(bins, 1/(sigma * np.sqrt(2 * np.pi)) *\n",
    "                   np.exp( - (bins - mu)**2 / (2 * sigma**2) ),\n",
    "                   linewidth=2, color='r')\n",
    "    ax[index].set_title(('lambda = {}').format(lambduh))\n",
    "plt.tight_layout()"
   ]
  },
  {
   "cell_type": "markdown",
   "metadata": {},
   "source": [
    "# [PyPlot tutorial](https://matplotlib.org/users/pyplot_tutorial.html) - excellent for more practice plotting with matplotlib\n",
    "# [Seaborn](https://seaborn.pydata.org/) - a plotting package built on top of matplolib that makes beautiful graphs"
   ]
  },
  {
   "cell_type": "markdown",
   "metadata": {},
   "source": []
  }
 ],
 "metadata": {
  "kernelspec": {
   "display_name": "Python 2",
   "language": "python",
   "name": "python2"
  },
  "language_info": {
   "codemirror_mode": {
    "name": "ipython",
    "version": 2
   },
   "file_extension": ".py",
   "mimetype": "text/x-python",
   "name": "python",
   "nbconvert_exporter": "python",
   "pygments_lexer": "ipython2",
   "version": "2.7.13"
  }
 },
 "nbformat": 4,
 "nbformat_minor": 1
}
