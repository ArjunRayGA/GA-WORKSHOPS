{
 "cells": [
  {
   "cell_type": "code",
   "execution_count": null,
   "metadata": {},
   "outputs": [],
   "source": [
    "import pandas as pd\n",
    "import numpy as np\n",
    "import sys, timeit "
   ]
  },
  {
   "cell_type": "markdown",
   "metadata": {},
   "source": [
    "# NumPy\n",
    "numpy provides a bunch of very fast an effecient data types and math operatios that extend and outclass python's builtin lists. pandas is in fact built on nump.\n",
    "\n",
    "Let's make a regular old python list and a numpy list and compare them"
   ]
  },
  {
   "cell_type": "code",
   "execution_count": null,
   "metadata": {},
   "outputs": [],
   "source": [
    "regular_list = [1, 2, 3,\"dog\", True, ]\n",
    "print(regular_list)"
   ]
  },
  {
   "cell_type": "markdown",
   "metadata": {},
   "source": [
    "Now let's make a numpy list. Notice any differences? Are the two lists equal to eachother?"
   ]
  },
  {
   "cell_type": "code",
   "execution_count": null,
   "metadata": {},
   "outputs": [],
   "source": [
    "np_test_array = np.array(regular_list)\n",
    "print(np_test_array)"
   ]
  },
  {
   "cell_type": "markdown",
   "metadata": {},
   "source": [
    "numpy is far faster at handling very large sized arrays than python lists, and they take up less memory as well. Let's test this by timing the creation of both kinds of vars and check their sizes in bytes."
   ]
  },
  {
   "cell_type": "code",
   "execution_count": null,
   "metadata": {},
   "outputs": [],
   "source": [
    "list_time = timeit.timeit('import numpy as np; large_arr =[num for num in range(0,50000000)]', number=1)\n",
    "large_arr = [num for num in range(0,50000000)]\n",
    "list_size = sys.getsizeof(large_arr)\n",
    "numpy_time = timeit.timeit('import numpy as np; large_np_arr = np.arange(0,50000000)', number=1)\n",
    "large_np_arr = np.arange(0,50000000)\n",
    "numpy_size = sys.getsizeof(large_np_arr)\n",
    "             \n",
    "print('numpy array was {} bytes and took {}ms to generate'. format(numpy_time, numpy_size))\n",
    "print('python list was {} bytes and took {}ms to generate'. format(list_time, list_size))"
   ]
  },
  {
   "cell_type": "markdown",
   "metadata": {},
   "source": [
    "# Useful numpy methods"
   ]
  },
  {
   "cell_type": "markdown",
   "metadata": {},
   "source": [
    "Numpy allows us to create arrays based on number of steps in a range ([`numpy.linspace`](https://docs.scipy.org/doc/numpy-1.13.0/reference/generated/numpy.linspace.html)) or stepsize within a range ([`numpy.arange`](https://docs.scipy.org/doc/numpy-1.13.0/reference/generated/numpy.arange.html))"
   ]
  },
  {
   "cell_type": "code",
   "execution_count": null,
   "metadata": {},
   "outputs": [],
   "source": [
    "# arguments are (start, stop, step=1)\n",
    "print(np.arange(0,100))\n",
    "print\n",
    "print(np.arange(0,100, 0.1))\n",
    "print\n",
    "\n",
    "# arguments are (start, stop, intervals=50)\n",
    "print(np.linspace(0,100))\n",
    "print\n",
    "print(np.linspace(0,100, 21))\n"
   ]
  },
  {
   "cell_type": "markdown",
   "metadata": {},
   "source": [
    "Numpy allows us to create empty multi-dimensional arrays based the sizes of the dimensions. The arrays can be filled with zeros or ones, using [`numpy.zeros`](https://docs.scipy.org/doc/numpy-1.13.0/reference/generated/numpy.zeros.html) and [`numpy.ones`](https://docs.scipy.org/doc/numpy-1.13.0/reference/generated/numpy.ones.html) respectively."
   ]
  },
  {
   "cell_type": "code",
   "execution_count": null,
   "metadata": {},
   "outputs": [],
   "source": [
    "print(np.zeros([10,2]))\n",
    "print\n",
    "print(np.zeros([2,10]))\n",
    "print\n",
    "print(np.zeros([2,10,3]))\n",
    "print\n",
    "print(np.ones([5,10]))\n"
   ]
  },
  {
   "cell_type": "markdown",
   "metadata": {},
   "source": [
    "numpy also includes a lot of math functions and constants within [`np.math`](https://docs.scipy.org/doc/numpy-1.13.0/reference/routines.math.html)."
   ]
  },
  {
   "cell_type": "code",
   "execution_count": null,
   "metadata": {
    "collapsed": true
   },
   "outputs": [],
   "source": [
    "print(np.math.pi)\n",
    "\n",
    "# type np.math. below and press TAB to see other methods and properites within np.math\n"
   ]
  },
  {
   "cell_type": "markdown",
   "metadata": {},
   "source": [
    "One of the most common uses of numpy is to draw samples randomly from some type of distribution. Check out the documentation on [`numpy.random`](https://docs.scipy.org/doc/numpy-1.13.0/reference/routines.random.html) and do the following:"
   ]
  },
  {
   "cell_type": "code",
   "execution_count": null,
   "metadata": {
    "collapsed": true
   },
   "outputs": [],
   "source": [
    "# draw 20 random samples from a standard normal distribution\n",
    "\n",
    "# draw a random integet from 1 to 100\n"
   ]
  }
 ],
 "metadata": {
  "kernelspec": {
   "display_name": "Python 2",
   "language": "python",
   "name": "python2"
  },
  "language_info": {
   "codemirror_mode": {
    "name": "ipython",
    "version": 2
   },
   "file_extension": ".py",
   "mimetype": "text/x-python",
   "name": "python",
   "nbconvert_exporter": "python",
   "pygments_lexer": "ipython2",
   "version": "2.7.13"
  }
 },
 "nbformat": 4,
 "nbformat_minor": 2
}
